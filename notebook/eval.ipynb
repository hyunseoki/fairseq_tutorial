{
 "cells": [
  {
   "cell_type": "code",
   "execution_count": 27,
   "metadata": {},
   "outputs": [],
   "source": [
    "import sys\n",
    "sys.path.append('../')\n",
    "from models import rnn_classifier ## import 해야 모델 로딩에 오류가 안뜸\n",
    "from tasks import simple_classification\n",
    "from fairseq import checkpoint_utils, data, options, tasks\n",
    "import argparse"
   ]
  },
  {
   "cell_type": "code",
   "execution_count": 28,
   "metadata": {},
   "outputs": [
    {
     "name": "stdout",
     "output_type": "stream",
     "text": [
      "| [input] dictionary: 64 types\n",
      "| [label] dictionary: 24 types\n"
     ]
    }
   ],
   "source": [
    "parser = options.get_generation_parser(\n",
    "    default_task='simple_classification',\n",
    "    )\n",
    "args = options.parse_args_and_arch(\n",
    "    parser=parser,\n",
    "    input_args=[\n",
    "        '../data/names-bin',\n",
    "        '--path=../checkpoints/checkpoint_best.pt',\n",
    "    ]\n",
    ")\n",
    "task = tasks.setup_task(args)"
   ]
  },
  {
   "cell_type": "code",
   "execution_count": 29,
   "metadata": {},
   "outputs": [],
   "source": [
    "import torch\n",
    "checkpoint = torch.load(args.path)"
   ]
  },
  {
   "cell_type": "code",
   "execution_count": 30,
   "metadata": {},
   "outputs": [
    {
     "name": "stdout",
     "output_type": "stream",
     "text": [
      "| loading model from ../checkpoints/checkpoint_best.pt\n"
     ]
    }
   ],
   "source": [
    "print('| loading model from {}'.format(args.path))\n",
    "models, _model_args = checkpoint_utils.load_model_ensemble([args.path], task=task)\n",
    "model = models[0]"
   ]
  },
  {
   "cell_type": "code",
   "execution_count": 32,
   "metadata": {},
   "outputs": [
    {
     "name": "stdout",
     "output_type": "stream",
     "text": [
      "Satoshi\n"
     ]
    }
   ],
   "source": [
    "sentence = 'Satoshi'\n",
    "print(sentence)\n"
   ]
  },
  {
   "cell_type": "code",
   "execution_count": 36,
   "metadata": {},
   "outputs": [
    {
     "data": {
      "text/plain": [
       "'S a t o s h i'"
      ]
     },
     "execution_count": 36,
     "metadata": {},
     "output_type": "execute_result"
    }
   ],
   "source": [
    "chars = ' '.join(list(sentence.strip()))\n",
    "chars"
   ]
  },
  {
   "cell_type": "code",
   "execution_count": 37,
   "metadata": {},
   "outputs": [
    {
     "data": {
      "text/plain": [
       "tensor([26,  4, 15,  5, 11, 10,  6,  2], dtype=torch.int32)"
      ]
     },
     "execution_count": 37,
     "metadata": {},
     "output_type": "execute_result"
    }
   ],
   "source": [
    "tokens = task.source_dictionary.encode_line(\n",
    "    chars, add_if_not_exist=False,\n",
    ")\n",
    "tokens"
   ]
  },
  {
   "cell_type": "code",
   "execution_count": 42,
   "metadata": {},
   "outputs": [],
   "source": [
    "# Build mini-batch to feed to the model\n",
    "batch = data.language_pair_dataset.collate(\n",
    "    samples=[{'id': -1, 'source': tokens}],  # bsz = 1\n",
    "    pad_idx=task.source_dictionary.pad(),\n",
    "    eos_idx=task.source_dictionary.eos(),\n",
    "    left_pad_source=False,\n",
    "    input_feeding=False,\n",
    ")"
   ]
  },
  {
   "cell_type": "code",
   "execution_count": 43,
   "metadata": {},
   "outputs": [
    {
     "data": {
      "text/plain": [
       "{'id': tensor([-1]),\n",
       " 'nsentences': 1,\n",
       " 'ntokens': 8,\n",
       " 'net_input': {'src_tokens': tensor([[26,  4, 15,  5, 11, 10,  6,  2]], dtype=torch.int32),\n",
       "  'src_lengths': tensor([8])},\n",
       " 'target': None}"
      ]
     },
     "execution_count": 43,
     "metadata": {},
     "output_type": "execute_result"
    }
   ],
   "source": [
    "batch"
   ]
  },
  {
   "cell_type": "code",
   "execution_count": 39,
   "metadata": {},
   "outputs": [
    {
     "name": "stdout",
     "output_type": "stream",
     "text": [
      "(-0.68)\tJapanese\n",
      "(-0.83)\tArabic\n",
      "(-3.79)\tPolish\n"
     ]
    }
   ],
   "source": [
    "# Tokenize into characters\n",
    "chars = ' '.join(list(sentence.strip()))\n",
    "tokens = task.source_dictionary.encode_line(\n",
    "    chars, add_if_not_exist=False,\n",
    ")\n",
    "\n",
    "# Build mini-batch to feed to the model\n",
    "batch = data.language_pair_dataset.collate(\n",
    "    samples=[{'id': -1, 'source': tokens}],  # bsz = 1\n",
    "    pad_idx=task.source_dictionary.pad(),\n",
    "    eos_idx=task.source_dictionary.eos(),\n",
    "    left_pad_source=False,\n",
    "    input_feeding=False,\n",
    ")\n",
    "\n",
    "# Feed batch to the model and get predictions\n",
    "preds = model(**batch['net_input'])\n",
    "\n",
    "# Print top 3 predictions and their log-probabilities\n",
    "top_scores, top_labels = preds[0].topk(k=3)\n",
    "for score, label_idx in zip(top_scores, top_labels):\n",
    "    label_name = task.target_dictionary.string([label_idx])\n",
    "    print('({:.2f})\\t{}'.format(score, label_name))"
   ]
  }
 ],
 "metadata": {
  "kernelspec": {
   "display_name": "Python 3.7.13 ('base')",
   "language": "python",
   "name": "python3"
  },
  "language_info": {
   "codemirror_mode": {
    "name": "ipython",
    "version": 3
   },
   "file_extension": ".py",
   "mimetype": "text/x-python",
   "name": "python",
   "nbconvert_exporter": "python",
   "pygments_lexer": "ipython3",
   "version": "3.7.13"
  },
  "orig_nbformat": 4,
  "vscode": {
   "interpreter": {
    "hash": "d4d1e4263499bec80672ea0156c357c1ee493ec2b1c70f0acce89fc37c4a6abe"
   }
  }
 },
 "nbformat": 4,
 "nbformat_minor": 2
}
